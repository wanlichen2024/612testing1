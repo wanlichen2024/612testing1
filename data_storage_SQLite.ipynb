{
  "nbformat": 4,
  "nbformat_minor": 0,
  "metadata": {
    "colab": {
      "provenance": [],
      "toc_visible": true,
      "mount_file_id": "1sTNWyzvcxYRbph_-WUkQxphIRDb5L6E8",
      "authorship_tag": "ABX9TyOWtxMw3khIAuwUEZUDVjSQ",
      "include_colab_link": true
    },
    "kernelspec": {
      "name": "python3",
      "display_name": "Python 3"
    },
    "language_info": {
      "name": "python"
    }
  },
  "cells": [
    {
      "cell_type": "markdown",
      "metadata": {
        "id": "view-in-github",
        "colab_type": "text"
      },
      "source": [
        "<a href=\"https://colab.research.google.com/github/wanlichen2024/612testing1/blob/main/data_storage_SQLite.ipynb\" target=\"_parent\"><img src=\"https://colab.research.google.com/assets/colab-badge.svg\" alt=\"Open In Colab\"/></a>"
      ]
    },
    {
      "cell_type": "markdown",
      "source": [
        "# create database at SQLite"
      ],
      "metadata": {
        "id": "RBsbdjW2w18y"
      }
    },
    {
      "cell_type": "code",
      "execution_count": 1,
      "metadata": {
        "id": "qoZneLKOnlVZ"
      },
      "outputs": [],
      "source": [
        "import sqlite3\n",
        "\n",
        "# connect to sqlite\n",
        "# create a database if database does not exists\n",
        "conn = sqlite3.connect('environmental_data.db')\n",
        "\n",
        "# create a cursor\n",
        "cursor = conn.cursor()\n",
        "\n",
        "# create species table\n",
        "create_species_table = '''\n",
        "CREATE TABLE IF NOT EXISTS Species (\n",
        "    Species_ID INTEGER PRIMARY KEY,\n",
        "    Species_Name TEXT NOT NULL\n",
        ")\n",
        "'''\n",
        "\n",
        "# create source table\n",
        "create_source_table = '''\n",
        "CREATE TABLE IF NOT EXISTS Source (\n",
        "    Source_ID INTEGER PRIMARY KEY,\n",
        "    Source_Name TEXT NOT NULL\n",
        ")\n",
        "'''\n",
        "\n",
        "# create sample table\n",
        "create_samples_table = '''\n",
        "CREATE TABLE IF NOT EXISTS Samples (\n",
        "    Sample_ID INTEGER PRIMARY KEY,\n",
        "    Date TEXT NOT NULL,\n",
        "    Time TEXT NOT NULL,\n",
        "    Location TEXT NOT NULL\n",
        ")\n",
        "'''\n",
        "\n",
        "# create measurement table\n",
        "create_measurement_table = '''\n",
        "CREATE TABLE IF NOT EXISTS Measurement (\n",
        "    Measurement_ID INTEGER PRIMARY KEY,\n",
        "    Species_ID INTEGER,\n",
        "    Source_ID INTEGER,\n",
        "    Sample_ID INTEGER,\n",
        "    Concentration REAL,\n",
        "    Average REAL,\n",
        "    Error REAL,\n",
        "    Dispersion REAL,\n",
        "    Envelope REAL,\n",
        "    Exceedance REAL,\n",
        "    FOREIGN KEY (Species_ID) REFERENCES Species (Species_ID),\n",
        "    FOREIGN KEY (Source_ID) REFERENCES Source (Source_ID),\n",
        "    FOREIGN KEY (Sample_ID) REFERENCES Samples (Sample_ID)\n",
        ")\n",
        "'''\n",
        "\n",
        "# exucution of creating table\n",
        "cursor.execute(create_species_table)\n",
        "cursor.execute(create_source_table)\n",
        "cursor.execute(create_samples_table)\n",
        "cursor.execute(create_measurement_table)\n",
        "\n",
        "# commitment\n",
        "conn.commit()\n",
        "\n",
        "# close\n",
        "cursor.close()\n",
        "conn.close()"
      ]
    },
    {
      "cell_type": "markdown",
      "source": [
        "# Insert data into database"
      ],
      "metadata": {
        "id": "3SsDuXy8xNma"
      }
    },
    {
      "cell_type": "code",
      "source": [
        "import sqlite3\n",
        "import csv\n",
        "\n",
        "# 连接到SQLite数据库\n",
        "conn = sqlite3.connect('environmental_data.db')\n",
        "cursor = conn.cursor()\n",
        "\n",
        "# 读取CSV文件并插入数据\n",
        "def insert_data(cursor, table, columns, data):\n",
        "    sql = f'INSERT INTO {table} ({\", \".join(columns)}) VALUES ({\", \".join([\"?\" for _ in columns])})'\n",
        "    cursor.executemany(sql, data)\n",
        "\n",
        "# 读取CSV文件\n",
        "def read_csv(filename):\n",
        "    with open(filename, newline='') as csvfile:\n",
        "        reader = csv.DictReader(csvfile)\n",
        "        data = [row for row in reader]\n",
        "    return data\n",
        "\n",
        "# 准备插入数据的列名和数据\n",
        "species_columns = ['Species_ID', 'Species_Name']\n",
        "source_columns = ['Source_ID', 'Source_Name']\n",
        "samples_columns = ['Sample_ID', 'Date', 'Time', 'Location']\n",
        "measurement_columns = ['Measurement_ID', 'Species_ID', 'Source_ID', 'Sample_ID', 'Concentration', 'Average', 'Error', 'Dispersion', 'Envelope', 'Exceedance']\n",
        "\n",
        "# 假设CSV文件中的数据已经是按照Species分组的\n",
        "species_data = read_csv('/content/drive/MyDrive/713 Capstone Project (DA)/PMF_Raw Date_QueenSt_PM10_1.csv')\n",
        "\n",
        "# 插入Species数据\n",
        "# 注意：这里需要根据实际CSV文件的结构来调整代码\n",
        "for species in species_data:\n",
        "    cursor.execute(f'INSERT INTO Species (Species_Name) VALUES (?)', (species['Species'],))\n",
        "    species_id = cursor.lastrowid\n",
        "    # 假设每个Species下的数据是连续的\n",
        "    for row in species_data[species_data.index(species):]:\n",
        "        if row['Species'] == species['Species']:\n",
        "            insert_data(cursor, 'Source', source_columns, [(row['Source_Name'],)])\n",
        "            source_id = cursor.lastrowid\n",
        "            # 插入Measurement数据\n",
        "            insert_data(cursor, 'Measurement', measurement_columns, [(row['Concentration'], row['Average'], row['Error'], row['Dispersion'], row['Envelope'], row['Exceedance'], species_id, source_id, 1)])  # 假设Sample_ID为1\n",
        "\n",
        "# 提交事务\n",
        "conn.commit()\n",
        "\n",
        "# 关闭游标和连接\n",
        "cursor.close()\n",
        "conn.close()"
      ],
      "metadata": {
        "colab": {
          "base_uri": "https://localhost:8080/",
          "height": 211
        },
        "id": "l9e5n_qQn0K6",
        "outputId": "c0856fca-38b4-4387-b71f-25b9c56c7cb5"
      },
      "execution_count": 3,
      "outputs": [
        {
          "output_type": "error",
          "ename": "KeyError",
          "evalue": "'Source_Name'",
          "traceback": [
            "\u001b[0;31m---------------------------------------------------------------------------\u001b[0m",
            "\u001b[0;31mKeyError\u001b[0m                                  Traceback (most recent call last)",
            "\u001b[0;32m<ipython-input-3-b60724e26abf>\u001b[0m in \u001b[0;36m<cell line: 31>\u001b[0;34m()\u001b[0m\n\u001b[1;32m     35\u001b[0m     \u001b[0;32mfor\u001b[0m \u001b[0mrow\u001b[0m \u001b[0;32min\u001b[0m \u001b[0mspecies_data\u001b[0m\u001b[0;34m[\u001b[0m\u001b[0mspecies_data\u001b[0m\u001b[0;34m.\u001b[0m\u001b[0mindex\u001b[0m\u001b[0;34m(\u001b[0m\u001b[0mspecies\u001b[0m\u001b[0;34m)\u001b[0m\u001b[0;34m:\u001b[0m\u001b[0;34m]\u001b[0m\u001b[0;34m:\u001b[0m\u001b[0;34m\u001b[0m\u001b[0;34m\u001b[0m\u001b[0m\n\u001b[1;32m     36\u001b[0m         \u001b[0;32mif\u001b[0m \u001b[0mrow\u001b[0m\u001b[0;34m[\u001b[0m\u001b[0;34m'Species'\u001b[0m\u001b[0;34m]\u001b[0m \u001b[0;34m==\u001b[0m \u001b[0mspecies\u001b[0m\u001b[0;34m[\u001b[0m\u001b[0;34m'Species'\u001b[0m\u001b[0;34m]\u001b[0m\u001b[0;34m:\u001b[0m\u001b[0;34m\u001b[0m\u001b[0;34m\u001b[0m\u001b[0m\n\u001b[0;32m---> 37\u001b[0;31m             \u001b[0minsert_data\u001b[0m\u001b[0;34m(\u001b[0m\u001b[0mcursor\u001b[0m\u001b[0;34m,\u001b[0m \u001b[0;34m'Source'\u001b[0m\u001b[0;34m,\u001b[0m \u001b[0msource_columns\u001b[0m\u001b[0;34m,\u001b[0m \u001b[0;34m[\u001b[0m\u001b[0;34m(\u001b[0m\u001b[0mrow\u001b[0m\u001b[0;34m[\u001b[0m\u001b[0;34m'Source_Name'\u001b[0m\u001b[0;34m]\u001b[0m\u001b[0;34m,\u001b[0m\u001b[0;34m)\u001b[0m\u001b[0;34m]\u001b[0m\u001b[0;34m)\u001b[0m\u001b[0;34m\u001b[0m\u001b[0;34m\u001b[0m\u001b[0m\n\u001b[0m\u001b[1;32m     38\u001b[0m             \u001b[0msource_id\u001b[0m \u001b[0;34m=\u001b[0m \u001b[0mcursor\u001b[0m\u001b[0;34m.\u001b[0m\u001b[0mlastrowid\u001b[0m\u001b[0;34m\u001b[0m\u001b[0;34m\u001b[0m\u001b[0m\n\u001b[1;32m     39\u001b[0m             \u001b[0;31m# 插入Measurement数据\u001b[0m\u001b[0;34m\u001b[0m\u001b[0;34m\u001b[0m\u001b[0m\n",
            "\u001b[0;31mKeyError\u001b[0m: 'Source_Name'"
          ]
        }
      ]
    }
  ]
}